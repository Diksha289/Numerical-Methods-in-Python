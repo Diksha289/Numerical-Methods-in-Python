{
 "cells": [
  {
   "cell_type": "markdown",
   "id": "5bcc1fa1",
   "metadata": {},
   "source": [
    "Numerical Methods"
   ]
  },
  {
   "cell_type": "code",
   "execution_count": 6,
   "id": "08bd44c6",
   "metadata": {},
   "outputs": [],
   "source": [
    "import numpy as np\n",
    "import sys"
   ]
  },
  {
   "cell_type": "markdown",
   "id": "8abce215",
   "metadata": {},
   "source": [
    "1. Bisection Method"
   ]
  },
  {
   "cell_type": "code",
   "execution_count": 3,
   "id": "e533a7b5",
   "metadata": {},
   "outputs": [
    {
     "name": "stdout",
     "output_type": "stream",
     "text": [
      "The value of root is :  -1.0025\n"
     ]
    }
   ],
   "source": [
    "# The function is x^3 - x^2  + 2\n",
    "def func(x):\n",
    "    return x*x*x - x*x +2\n",
    "def bisection(a,b):\n",
    " \n",
    "    if (func(a) * func(b) >= 0):\n",
    "        print(\"You have not assumed right a and b\\n\")\n",
    "        return\n",
    "  \n",
    "    c = a\n",
    "    while ((b-a) >= 0.01):\n",
    " \n",
    "        # Find middle point\n",
    "        c = (a+b)/2\n",
    "  \n",
    "        # Check if middle point is root\n",
    "        if (func(c) == 0.0):\n",
    "            break\n",
    "  \n",
    "        # Decide the side to repeat the steps\n",
    "        if (func(c)*func(a) < 0):\n",
    "            b = c\n",
    "        else:\n",
    "            a = c\n",
    "             \n",
    "    print(\"The value of root is : \",\"%.4f\"%c)\n",
    "     \n",
    "# Driver code\n",
    "# Initial values assumed\n",
    "a =-200\n",
    "b = 300\n",
    "bisection(a, b)"
   ]
  },
  {
   "cell_type": "markdown",
   "id": "c6e039d1",
   "metadata": {},
   "source": [
    "2.Regula-Falsi Method"
   ]
  },
  {
   "cell_type": "code",
   "execution_count": 4,
   "id": "4e8b0d39",
   "metadata": {},
   "outputs": [
    {
     "name": "stdout",
     "output_type": "stream",
     "text": [
      "The value of root is :  -1.0000\n"
     ]
    }
   ],
   "source": [
    "MAX_ITER = 1000000\n",
    "# The function is x^3 - x^2 + 2\n",
    "def func( x ):\n",
    "    return (x * x * x - x * x + 2)\n",
    " \n",
    "# Prints root of func(x) in interval [a, b]\n",
    "def regulaFalsi( a , b):\n",
    "    if func(a) * func(b) >= 0:\n",
    "        print(\"You have not assumed right a and b\")\n",
    "        return -1\n",
    "     \n",
    "    c = a # Initialize result\n",
    "     \n",
    "    for i in range(MAX_ITER):\n",
    "         \n",
    "        # Find the point that touches x axis\n",
    "        c = (a * func(b) - b * func(a))/ (func(b) - func(a))\n",
    "         \n",
    "        # Check if the above found point is root\n",
    "        if func(c) == 0:\n",
    "            break\n",
    "         \n",
    "        # Decide the side to repeat the steps\n",
    "        elif func(c) * func(a) < 0:\n",
    "            b = c\n",
    "        else:\n",
    "            a = c\n",
    "    print(\"The value of root is : \" , '%.4f' %c)\n",
    " \n",
    "# Driver code to test above function\n",
    "# Initial values assumed\n",
    "a =-200\n",
    "b = 300\n",
    "regulaFalsi(a, b)"
   ]
  },
  {
   "cell_type": "markdown",
   "id": "5444aba5",
   "metadata": {},
   "source": [
    "3.Newton Raphson Method"
   ]
  },
  {
   "cell_type": "code",
   "execution_count": 5,
   "id": "8e64e77d",
   "metadata": {},
   "outputs": [
    {
     "name": "stdout",
     "output_type": "stream",
     "text": [
      "The value of the root is :  -1.0000\n"
     ]
    }
   ],
   "source": [
    "# The function is x^3 - x^2 + 2\n",
    "def func( x ):\n",
    "    return x * x * x - x * x + 2\n",
    " \n",
    "# Derivative of the above function\n",
    "# which is 3*x^x - 2*x\n",
    "def derivFunc( x ):\n",
    "    return 3 * x * x - 2 * x\n",
    " \n",
    "# Function to find the root\n",
    "def newtonRaphson( x ):\n",
    "    h = func(x) / derivFunc(x)\n",
    "    while abs(h) >= 0.0001:\n",
    "        h = func(x)/derivFunc(x)\n",
    "         \n",
    "        # x(i+1) = x(i) - f(x) / f'(x)\n",
    "        x = x - h\n",
    "     \n",
    "    print(\"The value of the root is : \",\n",
    "                             \"%.4f\"% x)\n",
    " \n",
    "# Driver program to test above\n",
    "x0 = -20 # Initial values assumed\n",
    "newtonRaphson(x0)"
   ]
  },
  {
   "cell_type": "markdown",
   "id": "c106e32d",
   "metadata": {},
   "source": [
    "4.Gauss Elimination Method"
   ]
  },
  {
   "cell_type": "code",
   "execution_count": 19,
   "id": "a43db83b",
   "metadata": {},
   "outputs": [
    {
     "name": "stdout",
     "output_type": "stream",
     "text": [
      "Solution by NumPy:\n",
      "[ 0.38947368  0.49473684 -0.10877193  0.12982456  0.83157895]\n",
      "[[ 5.00000000e+00  1.00000000e+00  0.00000000e+00  3.00000000e+00\n",
      "  -1.00000000e+00]\n",
      " [ 0.00000000e+00  3.00000000e+00  4.00000000e+00  1.00000000e+00\n",
      "   7.00000000e+00]\n",
      " [ 0.00000000e+00  0.00000000e+00  4.50000000e+00  0.00000000e+00\n",
      "   6.00000000e+00]\n",
      " [ 0.00000000e+00  4.44089210e-16  0.00000000e+00  3.52702703e+00\n",
      "   2.95945946e+00]\n",
      " [ 0.00000000e+00  0.00000000e+00  0.00000000e+00  0.00000000e+00\n",
      "   2.11354647e+00]]\n",
      "[2.         7.         4.5        2.91891892 1.75758075]\n",
      "The solution of the system is:\n",
      "[ 0.38947368  0.49473684 -0.10877193  0.12982456  0.83157895]\n"
     ]
    }
   ],
   "source": [
    "a = np.array([[0, 6, -1, 2, 2],\n",
    "           [0, 3, 4, 1, 7],\n",
    "           [5, 1, 0, 3, -1],\n",
    "           [3, 1, 3, 0, 2],\n",
    "           [4, 4, 1, -2, 1]], float)\n",
    "#the b matrix constant terms of the equations \n",
    "b = np.array([5, 7, 2, 3, 4], float)\n",
    "\n",
    "print(\"Solution by NumPy:\")\n",
    "\n",
    "\n",
    "print(np.linalg.solve(a, b))\n",
    "\n",
    "n = len(b)\n",
    "x = np.zeros(n, float)\n",
    "\n",
    "#first loop specifys the fixed row\n",
    "for k in range(n-1):\n",
    "    if np.fabs(a[k,k]) < 1.0e-12:\n",
    "        \n",
    "        for i in range(k+1, n):\n",
    "            if np.fabs(a[i,k]) > np.fabs(a[k,k]):\n",
    "                a[[k,i]] = a[[i,k]]\n",
    "                b[[k,i]] = b[[i,k]]\n",
    "                break\n",
    "\n",
    " #applies the elimination below the fixed row\n",
    "\n",
    "    for i in range(k+1,n):\n",
    "        if a[i,k] == 0:continue\n",
    "\n",
    "        factor = a[k,k]/a[i,k]\n",
    "        for j in range(k,n):\n",
    "            a[i,j] = a[k,j] - a[i,j]*factor\n",
    "            #we also calculate the b vector of each row\n",
    "        b[i] = b[k] - b[i]*factor\n",
    "print(a)\n",
    "print(b)\n",
    "\n",
    "\n",
    "x[n-1] = b[n-1] / a[n-1, n-1]\n",
    "for i in range(n-2, -1, -1):\n",
    "    sum_ax = 0\n",
    "  \n",
    "    for j in range(i+1, n):\n",
    "        sum_ax += a[i,j] * x[j]\n",
    "        \n",
    "    x[i] = (b[i] - sum_ax) / a[i,i]\n",
    "\n",
    "print(\"The solution of the system is:\")\n",
    "print(x)"
   ]
  },
  {
   "cell_type": "markdown",
   "id": "4ae60cfb",
   "metadata": {},
   "source": [
    "5.Gauss Jordan Elimination Method"
   ]
  },
  {
   "cell_type": "code",
   "execution_count": 21,
   "id": "278648b9",
   "metadata": {},
   "outputs": [
    {
     "name": "stdout",
     "output_type": "stream",
     "text": [
      "Enter number of unknowns: 3\n",
      "Enter Augmented Matrix Coefficients:\n",
      "a[0][0]=1\n",
      "a[0][1]=1\n",
      "a[0][2]=1\n",
      "a[0][3]=9\n",
      "a[1][0]=2\n",
      "a[1][1]=-3\n",
      "a[1][2]=4\n",
      "a[1][3]=13\n",
      "a[2][0]=3\n",
      "a[2][1]=4\n",
      "a[2][2]=5\n",
      "a[2][3]=40\n",
      "\n",
      "Required solution is: \n",
      "X0 = 1.00\tX1 = 3.00\tX2 = 5.00\t"
     ]
    }
   ],
   "source": [
    "\n",
    "# Importing NumPy Library\n",
    "import numpy as np\n",
    "import sys\n",
    "\n",
    "# Reading number of unknowns\n",
    "n = int(input('Enter number of unknowns: '))\n",
    "\n",
    "# Making numpy array of n x n+1 size and initializing \n",
    "# to zero for storing augmented matrix\n",
    "a = np.zeros((n,n+1))\n",
    "\n",
    "# Making numpy array of n size and initializing \n",
    "# to zero for storing solution vector\n",
    "x = np.zeros(n)\n",
    "\n",
    "# Reading augmented matrix coefficients\n",
    "print('Enter Augmented Matrix Coefficients:')\n",
    "for i in range(n):\n",
    "    for j in range(n+1):\n",
    "        a[i][j] = float(input( 'a['+str(i)+']['+ str(j)+']='))\n",
    "\n",
    "# Applying Gauss Jordan Elimination\n",
    "for i in range(n):\n",
    "    if a[i][i] == 0.0:\n",
    "        sys.exit('Divide by zero detected!')\n",
    "        \n",
    "    for j in range(n):\n",
    "        if i != j:\n",
    "            ratio = a[j][i]/a[i][i]\n",
    "\n",
    "            for k in range(n+1):\n",
    "                a[j][k] = a[j][k] - ratio * a[i][k]\n",
    "\n",
    "# Obtaining Solution\n",
    "\n",
    "for i in range(n):\n",
    "    x[i] = a[i][n]/a[i][i]\n",
    "\n",
    "# Displaying solution\n",
    "print('\\nRequired solution is: ')\n",
    "for i in range(n):\n",
    "    print('X%d = %0.2f' %(i,x[i]), end = '\\t')\n"
   ]
  },
  {
   "cell_type": "markdown",
   "id": "db9dabea",
   "metadata": {},
   "source": [
    "6.Jaobi Iterative Method (Method of Simultaneous Displacement)"
   ]
  },
  {
   "cell_type": "code",
   "execution_count": 22,
   "id": "99e6d86c",
   "metadata": {},
   "outputs": [
    {
     "name": "stdout",
     "output_type": "stream",
     "text": [
      "Enter tolerable error: 0.00001\n",
      "\n",
      "Count\tx\ty\tz\n",
      "\n",
      "1\t0.8500\t-0.9000\t1.2500\n",
      "\n",
      "2\t1.0200\t-0.9650\t1.0300\n",
      "\n",
      "3\t1.0012\t-1.0015\t1.0032\n",
      "\n",
      "4\t1.0004\t-1.0000\t0.9996\n",
      "\n",
      "5\t1.0000\t-1.0001\t1.0000\n",
      "\n",
      "6\t1.0000\t-1.0000\t1.0000\n",
      "\n",
      "7\t1.0000\t-1.0000\t1.0000\n",
      "\n",
      "\n",
      "Solution: x=1.000, y=-1.000 and z = 1.000\n",
      "\n"
     ]
    }
   ],
   "source": [
    "f1 = lambda x,y,z: (17-y+2*z)/20\n",
    "f2 = lambda x,y,z: (-18-3*x+z)/20\n",
    "f3 = lambda x,y,z: (25-2*x+3*y)/20\n",
    "\n",
    "# Initial setup\n",
    "x0 = 0\n",
    "y0 = 0\n",
    "z0 = 0\n",
    "count = 1\n",
    "\n",
    "# Reading tolerable error\n",
    "e = float(input('Enter tolerable error: '))\n",
    "\n",
    "# Implementation of Jacobi Iteration\n",
    "print('\\nCount\\tx\\ty\\tz\\n')\n",
    "\n",
    "condition = True\n",
    "\n",
    "while condition:\n",
    "    x1 = f1(x0,y0,z0)\n",
    "    y1 = f2(x0,y0,z0)\n",
    "    z1 = f3(x0,y0,z0)\n",
    "    print('%d\\t%0.4f\\t%0.4f\\t%0.4f\\n' %(count, x1,y1,z1))\n",
    "    e1 = abs(x0-x1);\n",
    "    e2 = abs(y0-y1);\n",
    "    e3 = abs(z0-z1);\n",
    "    \n",
    "    count += 1\n",
    "    x0 = x1\n",
    "    y0 = y1\n",
    "    z0 = z1\n",
    "    \n",
    "    condition = e1>e and e2>e and e3>e\n",
    "\n",
    "print('\\nSolution: x=%0.3f, y=%0.3f and z = %0.3f\\n'% (x1,y1,z1))"
   ]
  },
  {
   "cell_type": "markdown",
   "id": "81bae2c6",
   "metadata": {},
   "source": [
    "7.Gauss Seidal Method (Method of Successive Displacement)"
   ]
  },
  {
   "cell_type": "code",
   "execution_count": 23,
   "id": "cae35e26",
   "metadata": {},
   "outputs": [
    {
     "name": "stdout",
     "output_type": "stream",
     "text": [
      "Enter tolerable error: 0.0001\n",
      "\n",
      "Count\tx\ty\tz\n",
      "\n",
      "1\t0.8500\t-1.0275\t1.0109\n",
      "\n",
      "2\t1.0025\t-0.9998\t0.9998\n",
      "\n",
      "3\t1.0000\t-1.0000\t1.0000\n",
      "\n",
      "4\t1.0000\t-1.0000\t1.0000\n",
      "\n",
      "\n",
      "Solution: x=1.000, y=-1.000 and z = 1.000\n",
      "\n"
     ]
    }
   ],
   "source": [
    "f1 = lambda x,y,z: (17-y+2*z)/20\n",
    "f2 = lambda x,y,z: (-18-3*x+z)/20\n",
    "f3 = lambda x,y,z: (25-2*x+3*y)/20\n",
    "\n",
    "# Initial setup\n",
    "x0 = 0\n",
    "y0 = 0\n",
    "z0 = 0\n",
    "count = 1\n",
    "\n",
    "# Reading tolerable error\n",
    "e = float(input('Enter tolerable error: '))\n",
    "\n",
    "# Implementation of Gauss Seidel Iteration\n",
    "print('\\nCount\\tx\\ty\\tz\\n')\n",
    "\n",
    "condition = True\n",
    "\n",
    "while condition:\n",
    "    x1 = f1(x0,y0,z0)\n",
    "    y1 = f2(x1,y0,z0)\n",
    "    z1 = f3(x1,y1,z0)\n",
    "    print('%d\\t%0.4f\\t%0.4f\\t%0.4f\\n' %(count, x1,y1,z1))\n",
    "    e1 = abs(x0-x1);\n",
    "    e2 = abs(y0-y1);\n",
    "    e3 = abs(z0-z1);\n",
    "    \n",
    "    count += 1\n",
    "    x0 = x1\n",
    "    y0 = y1\n",
    "    z0 = z1\n",
    "    \n",
    "    condition = e1>e and e2>e and e3>e\n",
    "\n",
    "print('\\nSolution: x=%0.3f, y=%0.3f and z = %0.3f\\n'% (x1,y1,z1))"
   ]
  },
  {
   "cell_type": "markdown",
   "id": "3c706e8d",
   "metadata": {},
   "source": [
    "Numerical Integration"
   ]
  },
  {
   "cell_type": "markdown",
   "id": "c4d8d392",
   "metadata": {},
   "source": [
    "8.Trapezoidal Rule"
   ]
  },
  {
   "cell_type": "code",
   "execution_count": 24,
   "id": "e3ed1b52",
   "metadata": {},
   "outputs": [
    {
     "name": "stdout",
     "output_type": "stream",
     "text": [
      "Enter lower limit of integration: 0\n",
      "Enter upper limit of integration: 1\n",
      "Enter number of sub intervals: 6\n",
      "Integration result by Trapezoidal method is: 0.784241\n"
     ]
    }
   ],
   "source": [
    "def f(x):\n",
    "    return 1/(1 + x**2)\n",
    "\n",
    "# Implementing trapezoidal method\n",
    "def trapezoidal(x0,xn,n):\n",
    "    # calculating step size\n",
    "    h = (xn - x0) / n\n",
    "    \n",
    "    # Finding sum \n",
    "    integration = f(x0) + f(xn)\n",
    "    \n",
    "    for i in range(1,n):\n",
    "        k = x0 + i*h\n",
    "        integration = integration + 2 * f(k)\n",
    "    \n",
    "    # Finding final integration value\n",
    "    integration = integration * h/2\n",
    "    \n",
    "    return integration\n",
    "    \n",
    "# Input section\n",
    "lower_limit = float(input(\"Enter lower limit of integration: \"))\n",
    "upper_limit = float(input(\"Enter upper limit of integration: \"))\n",
    "sub_interval = int(input(\"Enter number of sub intervals: \"))\n",
    "\n",
    "# Call trapezoidal() method and get result\n",
    "result = trapezoidal(lower_limit, upper_limit, sub_interval)\n",
    "print(\"Integration result by Trapezoidal method is: %0.6f\" % (result) )"
   ]
  },
  {
   "cell_type": "markdown",
   "id": "def07f60",
   "metadata": {},
   "source": [
    "9.Simpson's (1/3)rd Rule"
   ]
  },
  {
   "cell_type": "code",
   "execution_count": 25,
   "id": "a51a2513",
   "metadata": {},
   "outputs": [
    {
     "name": "stdout",
     "output_type": "stream",
     "text": [
      "Enter lower limit of integration: 0\n",
      "Enter upper limit of integration: 1\n",
      "Enter number of sub intervals: 6\n",
      "Integration result by Simpson's 1/3 method is: 0.785398\n"
     ]
    }
   ],
   "source": [
    "def f(x):\n",
    "    return 1/(1 + x**2)\n",
    "\n",
    "# Implementing Simpson's 1/3 \n",
    "def simpson13(x0,xn,n):\n",
    "    # calculating step size\n",
    "    h = (xn - x0) / n\n",
    "    \n",
    "    # Finding sum \n",
    "    integration = f(x0) + f(xn)\n",
    "    \n",
    "    for i in range(1,n):\n",
    "        k = x0 + i*h\n",
    "        \n",
    "        if i%2 == 0:\n",
    "            integration = integration + 2 * f(k)\n",
    "        else:\n",
    "            integration = integration + 4 * f(k)\n",
    "    \n",
    "    # Finding final integration value\n",
    "    integration = integration * h/3\n",
    "    \n",
    "    return integration\n",
    "    \n",
    "# Input section\n",
    "lower_limit = float(input(\"Enter lower limit of integration: \"))\n",
    "upper_limit = float(input(\"Enter upper limit of integration: \"))\n",
    "sub_interval = int(input(\"Enter number of sub intervals: \"))\n",
    "\n",
    "# Call trapezoidal() method and get result\n",
    "result = simpson13(lower_limit, upper_limit, sub_interval)\n",
    "print(\"Integration result by Simpson's 1/3 method is: %0.6f\" % (result) )"
   ]
  },
  {
   "cell_type": "markdown",
   "id": "0b6bcdb1",
   "metadata": {},
   "source": [
    "10.Simpson's (3/8)th Rule"
   ]
  },
  {
   "cell_type": "code",
   "execution_count": 26,
   "id": "1e5a9fcf",
   "metadata": {},
   "outputs": [
    {
     "name": "stdout",
     "output_type": "stream",
     "text": [
      "Enter lower limit of integration: 0\n",
      "Enter upper limit of integration: 1\n",
      "Enter number of sub intervals: 6\n",
      "Integration result by Simpson's 3/8 method is: 0.735877\n"
     ]
    }
   ],
   "source": [
    "def f(x):\n",
    "    return 1/(1 + x**2)\n",
    "\n",
    "# Implementing Simpson's 3/8\n",
    "def simpson38(x0,xn,n):\n",
    "    # calculating step size\n",
    "    h = (xn - x0) / n\n",
    "    \n",
    "    # Finding sum \n",
    "    integration = f(x0) + f(xn)\n",
    "    \n",
    "    for i in range(1,n):\n",
    "        k = x0 + i*h\n",
    "        \n",
    "        if i%2 == 0:\n",
    "            integration = integration + 2 * f(k)\n",
    "        else:\n",
    "            integration = integration + 3 * f(k)\n",
    "    \n",
    "    # Finding final integration value\n",
    "    integration = integration * 3 * h / 8\n",
    "    \n",
    "    return integration\n",
    "    \n",
    "# Input section\n",
    "lower_limit = float(input(\"Enter lower limit of integration: \"))\n",
    "upper_limit = float(input(\"Enter upper limit of integration: \"))\n",
    "sub_interval = int(input(\"Enter number of sub intervals: \"))\n",
    "\n",
    "# Call trapezoidal() method and get result\n",
    "result = simpson38(lower_limit, upper_limit, sub_interval)\n",
    "print(\"Integration result by Simpson's 3/8 method is: %0.6f\" % (result) )"
   ]
  },
  {
   "cell_type": "markdown",
   "id": "bf48b167",
   "metadata": {},
   "source": [
    "Interpolation"
   ]
  },
  {
   "cell_type": "markdown",
   "id": "cf83a7df",
   "metadata": {},
   "source": [
    "11.Forward Difference Interpolation"
   ]
  },
  {
   "cell_type": "code",
   "execution_count": 27,
   "id": "a0c336c2",
   "metadata": {},
   "outputs": [
    {
     "name": "stdout",
     "output_type": "stream",
     "text": [
      "Enter number of data points: 5\n",
      "Enter data for x and y: \n",
      "x[0]=40\n",
      "y[0]=31\n",
      "x[1]=50\n",
      "y[1]=73\n",
      "x[2]=60\n",
      "y[2]=124\n",
      "x[3]=70\n",
      "y[3]=159\n",
      "x[4]=80\n",
      "y[4]=190\n",
      "\n",
      "FORWARD DIFFERENCE TABLE\n",
      "\n",
      "40.00\t\t31.00\t\t42.00\t\t9.00\t\t-25.00\t\t37.00\n",
      "50.00\t\t73.00\t\t51.00\t\t-16.00\t\t12.00\n",
      "60.00\t\t124.00\t\t35.00\t\t-4.00\n",
      "70.00\t\t159.00\t\t31.00\n",
      "80.00\t\t190.00\n"
     ]
    }
   ],
   "source": [
    "n = int(input('Enter number of data points: '))\n",
    "x = np.zeros((n))\n",
    "y = np.zeros((n,n))\n",
    "\n",
    "\n",
    "# Reading data points\n",
    "print('Enter data for x and y: ')\n",
    "for i in range(n):\n",
    "    x[i] = float(input( 'x['+str(i)+']='))\n",
    "    y[i][0] = float(input( 'y['+str(i)+']='))\n",
    "    \n",
    "# Generating forward difference table\n",
    "for i in range(1,n):\n",
    "    for j in range(0,n-i):\n",
    "        y[j][i] = y[j+1][i-1] - y[j][i-1]\n",
    "\n",
    "        \n",
    "print('\\nFORWARD DIFFERENCE TABLE\\n');\n",
    "\n",
    "for i in range(0,n):\n",
    "    print('%0.2f' %(x[i]), end='')\n",
    "    for j in range(0, n-i):\n",
    "        print('\\t\\t%0.2f' %(y[i][j]), end='')\n",
    "    print()"
   ]
  },
  {
   "cell_type": "markdown",
   "id": "a97b62fd",
   "metadata": {},
   "source": [
    "12.Backward Difference Interpolation"
   ]
  },
  {
   "cell_type": "code",
   "execution_count": 28,
   "id": "9c5b36d0",
   "metadata": {},
   "outputs": [
    {
     "name": "stdout",
     "output_type": "stream",
     "text": [
      "Enter number of data points: 4\n",
      "Enter data for x and y: \n",
      "x[0]=0\n",
      "y[0]=1\n",
      "x[1]=1\n",
      "y[1]=2\n",
      "x[2]=2\n",
      "y[2]=1\n",
      "x[3]=3\n",
      "y[3]=10\n",
      "\n",
      "BACKWARD DIFFERENCE TABLE\n",
      "\n",
      "0.00\t1.00\n",
      "1.00\t2.00\t1.00\n",
      "2.00\t1.00\t-1.00\t-2.00\n",
      "3.00\t10.00\t9.00\t10.00\t12.00\n"
     ]
    }
   ],
   "source": [
    "n = int(input('Enter number of data points: '))\n",
    "x = np.zeros((n))\n",
    "y = np.zeros((n,n))\n",
    "\n",
    "# Reading data points\n",
    "print('Enter data for x and y: ')\n",
    "for i in range(n):\n",
    "    x[i] = float(input( 'x['+str(i)+']='))\n",
    "    y[i][0] = float(input( 'y['+str(i)+']='))\n",
    "    \n",
    "# Generating backward difference table\n",
    "for i in range(1,n):\n",
    "    for j in range(n-1,i-2,-1):\n",
    "        y[j][i] = y[j][i-1] - y[j-1][i-1]\n",
    "\n",
    "        \n",
    "print('\\nBACKWARD DIFFERENCE TABLE\\n');\n",
    "\n",
    "for i in range(0,n):\n",
    "    print('%0.2f' %(x[i]), end='')\n",
    "    for j in range(0, i+1):\n",
    "        print('\\t%0.2f' %(y[i][j]), end='')\n",
    "    print()"
   ]
  },
  {
   "cell_type": "markdown",
   "id": "285527eb",
   "metadata": {},
   "source": [
    "13.Lagrange Interpolation"
   ]
  },
  {
   "cell_type": "code",
   "execution_count": 29,
   "id": "eecc27e3",
   "metadata": {},
   "outputs": [
    {
     "name": "stdout",
     "output_type": "stream",
     "text": [
      "Enter number of data points: 5\n",
      "Enter data for x and y: \n",
      "x[0]=5\n",
      "y[0]=150\n",
      "x[1]=7\n",
      "y[1]=392\n",
      "x[2]=11\n",
      "y[2]=1452\n",
      "x[3]=13\n",
      "y[3]=2366\n",
      "x[4]=17\n",
      "y[4]=5202\n",
      "Enter interpolation point: 9\n",
      "Interpolated value at 9.000 is 810.000.\n"
     ]
    }
   ],
   "source": [
    "n = int(input('Enter number of data points: '))\n",
    "\n",
    "# Making numpy array of n & n x n size and initializing \n",
    "# to zero for storing x and y value along with differences of y\n",
    "x = np.zeros((n))\n",
    "y = np.zeros((n))\n",
    "\n",
    "\n",
    "# Reading data points\n",
    "print('Enter data for x and y: ')\n",
    "for i in range(n):\n",
    "    x[i] = float(input( 'x['+str(i)+']='))\n",
    "    y[i] = float(input( 'y['+str(i)+']='))\n",
    "\n",
    "\n",
    "# Reading interpolation point\n",
    "xp = float(input('Enter interpolation point: '))\n",
    "\n",
    "# Set interpolated value initially to zero\n",
    "yp = 0\n",
    "\n",
    "# Implementing Lagrange Interpolation\n",
    "for i in range(n):\n",
    "    \n",
    "    p = 1\n",
    "    \n",
    "    for j in range(n):\n",
    "        if i != j:\n",
    "            p = p * (xp - x[j])/(x[i] - x[j])\n",
    "    \n",
    "    yp = yp + p * y[i]    \n",
    "\n",
    "# Displaying output\n",
    "print('Interpolated value at %.3f is %.3f.' % (xp, yp))"
   ]
  },
  {
   "cell_type": "code",
   "execution_count": null,
   "id": "6cc183cf",
   "metadata": {},
   "outputs": [],
   "source": []
  }
 ],
 "metadata": {
  "kernelspec": {
   "display_name": "Python 3 (ipykernel)",
   "language": "python",
   "name": "python3"
  },
  "language_info": {
   "codemirror_mode": {
    "name": "ipython",
    "version": 3
   },
   "file_extension": ".py",
   "mimetype": "text/x-python",
   "name": "python",
   "nbconvert_exporter": "python",
   "pygments_lexer": "ipython3",
   "version": "3.9.7"
  }
 },
 "nbformat": 4,
 "nbformat_minor": 5
}
